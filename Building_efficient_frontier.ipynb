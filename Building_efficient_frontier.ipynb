{
  "nbformat": 4,
  "nbformat_minor": 0,
  "metadata": {
    "colab": {
      "provenance": []
    },
    "kernelspec": {
      "name": "python3",
      "display_name": "Python 3"
    },
    "language_info": {
      "name": "python"
    }
  },
  "cells": [
    {
      "cell_type": "code",
      "metadata": {
        "id": "J9bGKirHLrSZ"
      },
      "source": [
        "!pip install yfinance\n",
        "import yfinance as yf\n",
        "import pandas as pd\n",
        "import matplotlib.pyplot as plt\n",
        "import numpy as np\n",
        "import datetime as dt\n",
        "pd.set_option(\"display.max_rows\", 100)"
      ],
      "execution_count": null,
      "outputs": []
    },
    {
      "cell_type": "code",
      "source": [
        "def get_clean_data(stock_list, start, end, period='1D'): # Download and clean data from yahoo finance\n",
        "    data = yf.Tickers(stock_list)\n",
        "    data = data.history(start=start, end=end)['Close']\n",
        "    data.sort_index(inplace=True)\n",
        "    data.ffill(axis=0, inplace=True)\n",
        "    return data"
      ],
      "metadata": {
        "id": "ejza5sfCkdhD"
      },
      "execution_count": 29,
      "outputs": []
    },
    {
      "cell_type": "code",
      "metadata": {
        "id": "t5jroyAhNA_r"
      },
      "source": [
        "def efficient_frontier(cov_matrix, mean_daily_returns, num_portfolios, risk_free_rate=0):\n",
        "    results = np.zeros((len(stocks) + 3, num_portfolios))  # Need +3 columns to sharpe, expected returns and volatility\n",
        "    \n",
        "    for i in range(num_portfolios):\n",
        "        weights = np.array(np.random.random(len(cov_matrix)))  # Create a array with random weights from 0.0 to 1.0\n",
        "        weights /= np.sum(weights)  # Divide by the sum of weights to make sum of array equals to 1.0\n",
        "\n",
        "        portfolio_return = np.sum(mean_daily_returns *  weights) * 252\n",
        "        portfolio_std_dev = np.sqrt(np.dot(weights.T, np.dot(cov_matrix, weights))) * np.sqrt(252) # Annualized std deviation (volatility)\n",
        "        \n",
        "        results[0, i] = portfolio_return\n",
        "        results[1, i] = portfolio_std_dev\n",
        "        results[2, i] = (results[0, i] - risk_free_rate)/ results[1, i] # Sharpe ratio formula\n",
        "        \n",
        "        for j in range(len(weights)):\n",
        "            results[j+3, i] = weights[j]"
      ],
      "execution_count": 32,
      "outputs": []
    },
    {
      "cell_type": "code",
      "source": [
        "end = dt.datetime(2022,1,1)\n",
        "start = dt.datetime(2015,1,1)\n",
        "stocks = ['AAPL','GOOG','AMZN','NVDA']\n",
        "df = get_clean_data(stocks, start, end)\n",
        "df"
      ],
      "metadata": {
        "colab": {
          "base_uri": "https://localhost:8080/",
          "height": 473
        },
        "id": "Lo2Xv5Ts0dw1",
        "outputId": "22e1cba8-01fd-43a9-d4c7-a6cc012861a8"
      },
      "execution_count": 36,
      "outputs": [
        {
          "output_type": "stream",
          "name": "stdout",
          "text": [
            "[*********************100%***********************]  4 of 4 completed\n"
          ]
        },
        {
          "output_type": "execute_result",
          "data": {
            "text/plain": [
              "                                 AAPL        AMZN        GOOG        NVDA\n",
              "Date                                                                     \n",
              "2015-01-02 00:00:00-05:00   24.603210   15.426000   26.168653    4.834949\n",
              "2015-01-05 00:00:00-05:00   23.910099   15.109500   25.623152    4.753286\n",
              "2015-01-06 00:00:00-05:00   23.912346   14.764500   25.029282    4.609173\n",
              "2015-01-07 00:00:00-05:00   24.247646   14.921000   24.986401    4.597166\n",
              "2015-01-08 00:00:00-05:00   25.179295   15.023000   25.065184    4.770098\n",
              "...                               ...         ...         ...         ...\n",
              "2021-12-27 00:00:00-05:00  179.289459  169.669495  148.063995  309.160919\n",
              "2021-12-28 00:00:00-05:00  178.255447  170.660995  146.447998  302.936707\n",
              "2021-12-29 00:00:00-05:00  178.344925  169.201004  146.504501  299.729736\n",
              "2021-12-30 00:00:00-05:00  177.171738  168.644501  146.002502  295.583557\n",
              "2021-12-31 00:00:00-05:00  176.545380  166.716995  144.679504  293.835236\n",
              "\n",
              "[1763 rows x 4 columns]"
            ],
            "text/html": [
              "\n",
              "  <div id=\"df-69f9b92b-3caa-4bbf-ae3f-c8d2b91dbcd9\">\n",
              "    <div class=\"colab-df-container\">\n",
              "      <div>\n",
              "<style scoped>\n",
              "    .dataframe tbody tr th:only-of-type {\n",
              "        vertical-align: middle;\n",
              "    }\n",
              "\n",
              "    .dataframe tbody tr th {\n",
              "        vertical-align: top;\n",
              "    }\n",
              "\n",
              "    .dataframe thead th {\n",
              "        text-align: right;\n",
              "    }\n",
              "</style>\n",
              "<table border=\"1\" class=\"dataframe\">\n",
              "  <thead>\n",
              "    <tr style=\"text-align: right;\">\n",
              "      <th></th>\n",
              "      <th>AAPL</th>\n",
              "      <th>AMZN</th>\n",
              "      <th>GOOG</th>\n",
              "      <th>NVDA</th>\n",
              "    </tr>\n",
              "    <tr>\n",
              "      <th>Date</th>\n",
              "      <th></th>\n",
              "      <th></th>\n",
              "      <th></th>\n",
              "      <th></th>\n",
              "    </tr>\n",
              "  </thead>\n",
              "  <tbody>\n",
              "    <tr>\n",
              "      <th>2015-01-02 00:00:00-05:00</th>\n",
              "      <td>24.603210</td>\n",
              "      <td>15.426000</td>\n",
              "      <td>26.168653</td>\n",
              "      <td>4.834949</td>\n",
              "    </tr>\n",
              "    <tr>\n",
              "      <th>2015-01-05 00:00:00-05:00</th>\n",
              "      <td>23.910099</td>\n",
              "      <td>15.109500</td>\n",
              "      <td>25.623152</td>\n",
              "      <td>4.753286</td>\n",
              "    </tr>\n",
              "    <tr>\n",
              "      <th>2015-01-06 00:00:00-05:00</th>\n",
              "      <td>23.912346</td>\n",
              "      <td>14.764500</td>\n",
              "      <td>25.029282</td>\n",
              "      <td>4.609173</td>\n",
              "    </tr>\n",
              "    <tr>\n",
              "      <th>2015-01-07 00:00:00-05:00</th>\n",
              "      <td>24.247646</td>\n",
              "      <td>14.921000</td>\n",
              "      <td>24.986401</td>\n",
              "      <td>4.597166</td>\n",
              "    </tr>\n",
              "    <tr>\n",
              "      <th>2015-01-08 00:00:00-05:00</th>\n",
              "      <td>25.179295</td>\n",
              "      <td>15.023000</td>\n",
              "      <td>25.065184</td>\n",
              "      <td>4.770098</td>\n",
              "    </tr>\n",
              "    <tr>\n",
              "      <th>...</th>\n",
              "      <td>...</td>\n",
              "      <td>...</td>\n",
              "      <td>...</td>\n",
              "      <td>...</td>\n",
              "    </tr>\n",
              "    <tr>\n",
              "      <th>2021-12-27 00:00:00-05:00</th>\n",
              "      <td>179.289459</td>\n",
              "      <td>169.669495</td>\n",
              "      <td>148.063995</td>\n",
              "      <td>309.160919</td>\n",
              "    </tr>\n",
              "    <tr>\n",
              "      <th>2021-12-28 00:00:00-05:00</th>\n",
              "      <td>178.255447</td>\n",
              "      <td>170.660995</td>\n",
              "      <td>146.447998</td>\n",
              "      <td>302.936707</td>\n",
              "    </tr>\n",
              "    <tr>\n",
              "      <th>2021-12-29 00:00:00-05:00</th>\n",
              "      <td>178.344925</td>\n",
              "      <td>169.201004</td>\n",
              "      <td>146.504501</td>\n",
              "      <td>299.729736</td>\n",
              "    </tr>\n",
              "    <tr>\n",
              "      <th>2021-12-30 00:00:00-05:00</th>\n",
              "      <td>177.171738</td>\n",
              "      <td>168.644501</td>\n",
              "      <td>146.002502</td>\n",
              "      <td>295.583557</td>\n",
              "    </tr>\n",
              "    <tr>\n",
              "      <th>2021-12-31 00:00:00-05:00</th>\n",
              "      <td>176.545380</td>\n",
              "      <td>166.716995</td>\n",
              "      <td>144.679504</td>\n",
              "      <td>293.835236</td>\n",
              "    </tr>\n",
              "  </tbody>\n",
              "</table>\n",
              "<p>1763 rows × 4 columns</p>\n",
              "</div>\n",
              "      <button class=\"colab-df-convert\" onclick=\"convertToInteractive('df-69f9b92b-3caa-4bbf-ae3f-c8d2b91dbcd9')\"\n",
              "              title=\"Convert this dataframe to an interactive table.\"\n",
              "              style=\"display:none;\">\n",
              "        \n",
              "  <svg xmlns=\"http://www.w3.org/2000/svg\" height=\"24px\"viewBox=\"0 0 24 24\"\n",
              "       width=\"24px\">\n",
              "    <path d=\"M0 0h24v24H0V0z\" fill=\"none\"/>\n",
              "    <path d=\"M18.56 5.44l.94 2.06.94-2.06 2.06-.94-2.06-.94-.94-2.06-.94 2.06-2.06.94zm-11 1L8.5 8.5l.94-2.06 2.06-.94-2.06-.94L8.5 2.5l-.94 2.06-2.06.94zm10 10l.94 2.06.94-2.06 2.06-.94-2.06-.94-.94-2.06-.94 2.06-2.06.94z\"/><path d=\"M17.41 7.96l-1.37-1.37c-.4-.4-.92-.59-1.43-.59-.52 0-1.04.2-1.43.59L10.3 9.45l-7.72 7.72c-.78.78-.78 2.05 0 2.83L4 21.41c.39.39.9.59 1.41.59.51 0 1.02-.2 1.41-.59l7.78-7.78 2.81-2.81c.8-.78.8-2.07 0-2.86zM5.41 20L4 18.59l7.72-7.72 1.47 1.35L5.41 20z\"/>\n",
              "  </svg>\n",
              "      </button>\n",
              "      \n",
              "  <style>\n",
              "    .colab-df-container {\n",
              "      display:flex;\n",
              "      flex-wrap:wrap;\n",
              "      gap: 12px;\n",
              "    }\n",
              "\n",
              "    .colab-df-convert {\n",
              "      background-color: #E8F0FE;\n",
              "      border: none;\n",
              "      border-radius: 50%;\n",
              "      cursor: pointer;\n",
              "      display: none;\n",
              "      fill: #1967D2;\n",
              "      height: 32px;\n",
              "      padding: 0 0 0 0;\n",
              "      width: 32px;\n",
              "    }\n",
              "\n",
              "    .colab-df-convert:hover {\n",
              "      background-color: #E2EBFA;\n",
              "      box-shadow: 0px 1px 2px rgba(60, 64, 67, 0.3), 0px 1px 3px 1px rgba(60, 64, 67, 0.15);\n",
              "      fill: #174EA6;\n",
              "    }\n",
              "\n",
              "    [theme=dark] .colab-df-convert {\n",
              "      background-color: #3B4455;\n",
              "      fill: #D2E3FC;\n",
              "    }\n",
              "\n",
              "    [theme=dark] .colab-df-convert:hover {\n",
              "      background-color: #434B5C;\n",
              "      box-shadow: 0px 1px 3px 1px rgba(0, 0, 0, 0.15);\n",
              "      filter: drop-shadow(0px 1px 2px rgba(0, 0, 0, 0.3));\n",
              "      fill: #FFFFFF;\n",
              "    }\n",
              "  </style>\n",
              "\n",
              "      <script>\n",
              "        const buttonEl =\n",
              "          document.querySelector('#df-69f9b92b-3caa-4bbf-ae3f-c8d2b91dbcd9 button.colab-df-convert');\n",
              "        buttonEl.style.display =\n",
              "          google.colab.kernel.accessAllowed ? 'block' : 'none';\n",
              "\n",
              "        async function convertToInteractive(key) {\n",
              "          const element = document.querySelector('#df-69f9b92b-3caa-4bbf-ae3f-c8d2b91dbcd9');\n",
              "          const dataTable =\n",
              "            await google.colab.kernel.invokeFunction('convertToInteractive',\n",
              "                                                     [key], {});\n",
              "          if (!dataTable) return;\n",
              "\n",
              "          const docLinkHtml = 'Like what you see? Visit the ' +\n",
              "            '<a target=\"_blank\" href=https://colab.research.google.com/notebooks/data_table.ipynb>data table notebook</a>'\n",
              "            + ' to learn more about interactive tables.';\n",
              "          element.innerHTML = '';\n",
              "          dataTable['output_type'] = 'display_data';\n",
              "          await google.colab.output.renderOutput(dataTable, element);\n",
              "          const docLink = document.createElement('div');\n",
              "          docLink.innerHTML = docLinkHtml;\n",
              "          element.appendChild(docLink);\n",
              "        }\n",
              "      </script>\n",
              "    </div>\n",
              "  </div>\n",
              "  "
            ]
          },
          "metadata": {},
          "execution_count": 36
        }
      ]
    },
    {
      "cell_type": "code",
      "source": [
        "returns = df.pct_change().copy()\n",
        "cov_matrix = returns.cov()\n",
        "mean_daily_returns = returns.mean()\n",
        "\n",
        "num_portfolios = 100000\n",
        "\n",
        "efficient_frontier(cov_matrix, mean_daily_returns, num_portfolios)\n",
        "\n",
        "col_names = [\"Return\", \"Volatility\", \"Sharpe\"] + stocks.copy()\n",
        "results_df = pd.DataFrame(results.T)\n",
        "results_df.columns = [name for name in col_names]\n",
        "\n",
        "max_sharpe = results_df.iloc[results_df['Sharpe'].idxmax()]  # Return the row of max_sharpe ratio\n",
        "min_volatility = results_df.iloc[results_df['Volatility'].idxmin()]  # Return the row with minimum volatility \n",
        "print(\"-\"*70)\n",
        "print(f\"Portfolio with max sharpe ratio in {num_portfolios} simulations\\n{max_sharpe}\")\n",
        "print(\"-\"*70)\n",
        "print(f\"Portfolio with min volatility in {num_portfolios} simulations\\n{min_volatility}\")  "
      ],
      "metadata": {
        "colab": {
          "base_uri": "https://localhost:8080/"
        },
        "id": "JOXNwNzU1UeZ",
        "outputId": "7f9d8ccc-0488-4d87-cc5e-19b16749e08c"
      },
      "execution_count": 43,
      "outputs": [
        {
          "output_type": "stream",
          "name": "stdout",
          "text": [
            "----------------------------------------------------------------------\n",
            "Portfolio with max sharpe ratio in 100000 simulations\n",
            "Return        0.517326\n",
            "Volatility    0.313802\n",
            "Sharpe        1.648575\n",
            "AAPL          0.111898\n",
            "GOOG          0.417398\n",
            "AMZN          0.012060\n",
            "NVDA          0.458644\n",
            "Name: 6282, dtype: float64\n",
            "----------------------------------------------------------------------\n",
            "Portfolio with min volatility in 100000 simulations\n",
            "Return        0.319414\n",
            "Volatility    0.242309\n",
            "Sharpe        1.318208\n",
            "AAPL          0.304703\n",
            "GOOG          0.246764\n",
            "AMZN          0.448255\n",
            "NVDA          0.000279\n",
            "Name: 1333, dtype: float64\n"
          ]
        }
      ]
    },
    {
      "cell_type": "code",
      "metadata": {
        "colab": {
          "base_uri": "https://localhost:8080/",
          "height": 404
        },
        "id": "J7ruvPOqNPiE",
        "outputId": "9858350e-72d5-4839-bc91-e1fcb4aacad7"
      },
      "source": [
        "# Plotting efficient frontier\n",
        "plt.figure(figsize=(15, 6))\n",
        "plt.scatter(results_df.Volatility, results_df.Return, c=results_df.Sharpe, cmap='coolwarm')\n",
        "plt.xlabel('Annualized Volatility')\n",
        "plt.ylabel('Annualized Returns')\n",
        "plt.title('Efficient Frontier')\n",
        "plt.colorbar()\n",
        "\n",
        "plt.scatter(max_sharpe[1], max_sharpe[0], marker = (4,1,0), color='black', s=400)  # Portfolio with maximum sharpe ratio \n",
        "plt.scatter(min_volatility[1], min_volatility[0], marker = (4,1,0), color='g', s=400)  # Portfolio with min volatility \n",
        "plt.show()"
      ],
      "execution_count": 44,
      "outputs": [
        {
          "output_type": "display_data",
          "data": {
            "text/plain": [
              "<Figure size 1080x432 with 2 Axes>"
            ],
            "image/png": "[encoded data removed]"
          },
          "metadata": {
            "needs_background": "light"
          }
        }
      ]
    },
    {
      "cell_type": "code",
      "source": [],
      "metadata": {
        "id": "uqL-nnIWnW3u"
      },
      "execution_count": 33,
      "outputs": []
    }
  ]
}